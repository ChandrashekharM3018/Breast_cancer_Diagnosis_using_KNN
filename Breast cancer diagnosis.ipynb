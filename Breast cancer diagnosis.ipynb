{
 "cells": [
  {
   "cell_type": "code",
   "execution_count": 1,
   "metadata": {},
   "outputs": [
    {
     "name": "stdout",
     "output_type": "stream",
     "text": [
      "Raw data shape: (569, 33)\n",
      "Label data shape:  (569,)\n",
      "Feature data shape:  (569, 32)\n"
     ]
    },
    {
     "data": {
      "text/plain": [
       "Index(['id', 'radius_mean', 'texture_mean', 'perimeter_mean', 'area_mean',\n",
       "       'smoothness_mean', 'compactness_mean', 'concavity_mean',\n",
       "       'concave points_mean', 'Unnamed: 10', 'symmetry_mean',\n",
       "       'fractal_dimension_mean', 'radius_se', 'texture_se', 'perimeter_se',\n",
       "       'area_se', 'smoothness_se', 'compactness_se', 'concavity_se',\n",
       "       'concave points_se', 'symmetry_se', 'fractal_dimension_se',\n",
       "       'radius_worst', 'texture_worst', 'perimeter_worst', 'area_worst',\n",
       "       'smoothness_worst', 'compactness_worst', 'concavity_worst',\n",
       "       'concave points_worst', 'symmetry_worst', 'fractal_dimension_worst'],\n",
       "      dtype='object')"
      ]
     },
     "execution_count": 1,
     "metadata": {},
     "output_type": "execute_result"
    }
   ],
   "source": [
    "import numpy as np\n",
    "import pandas as pd\n",
    "\n",
    "Data = pd.read_csv(r\"C:\\\\Users\\\\Lenovo\\Desktop\\DS\\csv\\data1.csv\")\n",
    "print('Raw data shape:',Data.shape)\n",
    "features = Data.drop(['diagnosis'], axis = 1)\n",
    "labels = Data['diagnosis']\n",
    "print('Label data shape: ',labels.shape)\n",
    "print('Feature data shape: ',features.shape)\n",
    "\n",
    "features.columns"
   ]
  },
  {
   "cell_type": "code",
   "execution_count": 2,
   "metadata": {},
   "outputs": [
    {
     "data": {
      "text/plain": [
       "array(['M', 'B'], dtype=object)"
      ]
     },
     "execution_count": 2,
     "metadata": {},
     "output_type": "execute_result"
    }
   ],
   "source": [
    "Data['diagnosis'].unique()"
   ]
  },
  {
   "cell_type": "code",
   "execution_count": 3,
   "metadata": {},
   "outputs": [
    {
     "data": {
      "text/plain": [
       "<matplotlib.axes._subplots.AxesSubplot at 0x1e789649748>"
      ]
     },
     "execution_count": 3,
     "metadata": {},
     "output_type": "execute_result"
    }
   ],
   "source": [
    "import seaborn as sns\n",
    "sns.countplot(x=\"diagnosis\",data=Data)"
   ]
  },
  {
   "cell_type": "code",
   "execution_count": 4,
   "metadata": {},
   "outputs": [
    {
     "data": {
      "text/plain": [
       "id                           int64\n",
       "radius_mean                float64\n",
       "texture_mean               float64\n",
       "perimeter_mean             float64\n",
       "area_mean                  float64\n",
       "smoothness_mean            float64\n",
       "compactness_mean           float64\n",
       "concavity_mean             float64\n",
       "concave points_mean        float64\n",
       "Unnamed: 10                float64\n",
       "symmetry_mean              float64\n",
       "fractal_dimension_mean     float64\n",
       "radius_se                  float64\n",
       "texture_se                 float64\n",
       "perimeter_se               float64\n",
       "area_se                    float64\n",
       "smoothness_se              float64\n",
       "compactness_se             float64\n",
       "concavity_se               float64\n",
       "concave points_se          float64\n",
       "symmetry_se                float64\n",
       "fractal_dimension_se       float64\n",
       "radius_worst               float64\n",
       "texture_worst              float64\n",
       "perimeter_worst            float64\n",
       "area_worst                 float64\n",
       "smoothness_worst           float64\n",
       "compactness_worst          float64\n",
       "concavity_worst            float64\n",
       "concave points_worst       float64\n",
       "symmetry_worst             float64\n",
       "fractal_dimension_worst    float64\n",
       "dtype: object"
      ]
     },
     "execution_count": 4,
     "metadata": {},
     "output_type": "execute_result"
    }
   ],
   "source": [
    "features.dtypes"
   ]
  },
  {
   "cell_type": "code",
   "execution_count": 5,
   "metadata": {},
   "outputs": [
    {
     "data": {
      "text/plain": [
       "id                           0\n",
       "radius_mean                  0\n",
       "texture_mean                 0\n",
       "perimeter_mean               0\n",
       "area_mean                    0\n",
       "smoothness_mean              0\n",
       "compactness_mean             0\n",
       "concavity_mean               0\n",
       "concave points_mean          0\n",
       "Unnamed: 10                569\n",
       "symmetry_mean                0\n",
       "fractal_dimension_mean       0\n",
       "radius_se                    0\n",
       "texture_se                   0\n",
       "perimeter_se                 0\n",
       "area_se                      0\n",
       "smoothness_se                0\n",
       "compactness_se               0\n",
       "concavity_se                 0\n",
       "concave points_se            0\n",
       "symmetry_se                  0\n",
       "fractal_dimension_se         0\n",
       "radius_worst                 0\n",
       "texture_worst                0\n",
       "perimeter_worst              0\n",
       "area_worst                   0\n",
       "smoothness_worst             0\n",
       "compactness_worst            0\n",
       "concavity_worst              0\n",
       "concave points_worst         0\n",
       "symmetry_worst               0\n",
       "fractal_dimension_worst      0\n",
       "dtype: int64"
      ]
     },
     "execution_count": 5,
     "metadata": {},
     "output_type": "execute_result"
    }
   ],
   "source": [
    "features.isnull().sum()"
   ]
  },
  {
   "cell_type": "code",
   "execution_count": 9,
   "metadata": {},
   "outputs": [
    {
     "name": "stdout",
     "output_type": "stream",
     "text": [
      "Index(['id', 'radius_mean', 'texture_mean', 'perimeter_mean', 'area_mean',\n",
      "       'smoothness_mean', 'compactness_mean', 'concavity_mean',\n",
      "       'concave points_mean', 'symmetry_mean', 'fractal_dimension_mean',\n",
      "       'radius_se', 'texture_se', 'perimeter_se', 'area_se', 'smoothness_se',\n",
      "       'compactness_se', 'concavity_se', 'concave points_se', 'symmetry_se',\n",
      "       'fractal_dimension_se', 'radius_worst', 'texture_worst',\n",
      "       'perimeter_worst', 'area_worst', 'smoothness_worst',\n",
      "       'compactness_worst', 'concavity_worst', 'concave points_worst',\n",
      "       'symmetry_worst', 'fractal_dimension_worst'],\n",
      "      dtype='object')\n",
      "(569, 31)\n"
     ]
    }
   ],
   "source": [
    "features = features.loc[:, ~features.columns.str.contains('^Unnamed')]\n",
    "print(features.columns)\n",
    "print(features.shape)"
   ]
  },
  {
   "cell_type": "code",
   "execution_count": 16,
   "metadata": {},
   "outputs": [],
   "source": [
    "from sklearn.model_selection import train_test_split \n",
    "xtrain, xtest, ytrain, ytest = train_test_split( features, labels, test_size = 0.3) \n"
   ]
  },
  {
   "cell_type": "code",
   "execution_count": 17,
   "metadata": {},
   "outputs": [
    {
     "name": "stdout",
     "output_type": "stream",
     "text": [
      "-0.423366396926967\n",
      "0.34593002551359964\n",
      "[[-0.20588663 -1.11916219 -0.40795462 -1.11127613 -0.94031246 -1.14302642\n",
      "  -0.86074695 -0.40050123 -0.97747072  0.51177566  0.03879118 -0.16013575\n",
      "   1.20551491 -0.04474676 -0.35911897 -0.73545635  0.31212172  0.76511863\n",
      "  -0.17141719  0.61796133  0.25868724 -0.99278636 -0.18863403 -0.94745334\n",
      "  -0.82642666 -1.61037362 -0.73208971 -0.4016686  -1.19971453 -0.07861806\n",
      "  -0.33297745]\n",
      " [-0.2038403  -0.53664114  2.51816986 -0.60721717 -0.53980486 -1.39614372\n",
      "  -1.32946866 -1.09312536 -1.24660414 -0.42326833 -0.44930264  0.14878158\n",
      "   4.16602975  0.02006079 -0.10856915  0.11386084 -0.95562681 -0.98948728\n",
      "  -1.83203354  1.31609762 -0.25072345 -0.58927082  2.02572841 -0.66300817\n",
      "  -0.56123416 -1.65526502 -1.27705031 -1.29001082 -1.73205574 -0.81205208\n",
      "  -0.8941784 ]\n",
      " [ 0.35752862  0.02618113  0.7798317   0.05902083 -0.08319286  0.51542665\n",
      "   0.19158841  0.66182633  0.29607569  0.37667425 -0.41905457 -0.69587076\n",
      "   1.08366184 -0.44778353 -0.44541043 -0.27773859  0.01557559  0.42203757\n",
      "   0.14644121 -0.71462584 -0.03688822 -0.21238321  1.40935948 -0.09823172\n",
      "  -0.27177792  0.2164928   0.09932214  0.66388058  0.29832432 -0.35026029\n",
      "  -0.04763888]\n",
      " [-0.25937969  0.36106039  1.10782003  0.46772829  0.19871783  1.54928605\n",
      "   1.52919202  1.34197508  0.89440125 -0.0464065   1.09472372 -0.2422354\n",
      "   1.27244829  0.04513233 -0.16156227  0.81624839  1.31717567  0.83956935\n",
      "   1.33259575  0.07122809  0.73705733  0.1604078   1.74526424  0.29552502\n",
      "   0.03767029  1.72142372  1.4895722   1.43777663  1.49240245  0.15307678\n",
      "   1.17321009]\n",
      " [-0.2065568   0.22316893 -0.53212163  0.15885465  0.07262182  0.14109825\n",
      "  -0.49122461 -0.78100066 -0.29647018 -0.1423996  -0.87552541 -0.45722516\n",
      "  -0.00443463 -0.44872962 -0.32886619 -0.60769144 -0.6542763  -0.76838384\n",
      "  -0.42523876 -0.83598861 -0.74392404 -0.04442243 -0.42833306 -0.08941627\n",
      "  -0.16002799 -0.48466819 -0.58273429 -0.98322126 -0.46716772 -0.82004156\n",
      "  -1.0600117 ]]\n"
     ]
    }
   ],
   "source": [
    "from sklearn.preprocessing import StandardScaler \n",
    "sc_x = StandardScaler() \n",
    "xtrain = sc_x.fit_transform(xtrain) \n",
    "xtest = sc_x.transform(xtest) \n",
    "\n",
    "print(xtrain[4].mean())\n",
    "print(xtrain[4].std())\n",
    "print (xtrain[0:5, :]) "
   ]
  },
  {
   "cell_type": "code",
   "execution_count": 18,
   "metadata": {},
   "outputs": [],
   "source": [
    "from sklearn.neighbors import KNeighborsClassifier\n",
    "knn = KNeighborsClassifier(n_neighbors=5)\n",
    "knn.fit(xtrain, ytrain)\n",
    "y_pred = knn.predict(xtest)"
   ]
  },
  {
   "cell_type": "code",
   "execution_count": 19,
   "metadata": {},
   "outputs": [
    {
     "name": "stdout",
     "output_type": "stream",
     "text": [
      "Accuracy :  0.9649122807017544\n"
     ]
    }
   ],
   "source": [
    "from sklearn.metrics import accuracy_score \n",
    "print (\"Accuracy : \",accuracy_score(ytest, y_pred)) "
   ]
  },
  {
   "cell_type": "code",
   "execution_count": 20,
   "metadata": {},
   "outputs": [
    {
     "name": "stdout",
     "output_type": "stream",
     "text": [
      "Confusion Matrix : \n",
      " [[107   1]\n",
      " [  5  58]]\n",
      "              precision    recall  f1-score   support\n",
      "\n",
      "           B       0.96      0.99      0.97       108\n",
      "           M       0.98      0.92      0.95        63\n",
      "\n",
      "    accuracy                           0.96       171\n",
      "   macro avg       0.97      0.96      0.96       171\n",
      "weighted avg       0.97      0.96      0.96       171\n",
      "\n"
     ]
    }
   ],
   "source": [
    "from sklearn.metrics import confusion_matrix \n",
    "\n",
    "from sklearn.metrics import classification_report \n",
    "cm = confusion_matrix(ytest, y_pred) \n",
    "print (\"Confusion Matrix : \\n\", cm) \n",
    "print(classification_report(ytest, y_pred) )"
   ]
  },
  {
   "cell_type": "code",
   "execution_count": null,
   "metadata": {},
   "outputs": [],
   "source": []
  },
  {
   "cell_type": "code",
   "execution_count": null,
   "metadata": {},
   "outputs": [],
   "source": []
  }
 ],
 "metadata": {
  "kernelspec": {
   "display_name": "Python 3",
   "language": "python",
   "name": "python3"
  },
  "language_info": {
   "codemirror_mode": {
    "name": "ipython",
    "version": 3
   },
   "file_extension": ".py",
   "mimetype": "text/x-python",
   "name": "python",
   "nbconvert_exporter": "python",
   "pygments_lexer": "ipython3",
   "version": "3.7.4"
  }
 },
 "nbformat": 4,
 "nbformat_minor": 2
}
